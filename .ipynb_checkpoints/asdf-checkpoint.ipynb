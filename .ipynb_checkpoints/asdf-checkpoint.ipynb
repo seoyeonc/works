{
 "cells": [
  {
   "cell_type": "markdown",
   "id": "0ebb894d-c87b-4885-b1fa-bc933d92d8a0",
   "metadata": {},
   "source": [
    "최서연"
   ]
  },
  {
   "cell_type": "markdown",
   "id": "035cc994-9d4c-4919-bdb5-c74839fa8862",
   "metadata": {},
   "source": [
    "ref: <https://quarto.org/docs/authoring/tables.html>"
   ]
  },
  {
   "cell_type": "markdown",
   "id": "5bd8f37e-a1c3-488b-8c58-f184999f316b",
   "metadata": {},
   "source": [
    "`-` 사용예시1"
   ]
  },
  {
   "cell_type": "markdown",
   "id": "7e8dc2aa-b0df-48a2-8e65-ffe89e8ecff7",
   "metadata": {},
   "source": [
    "| Default | Left | Right | Center |\n",
    "|---------|:-----|------:|:------:|\n",
    "| 12      | 12   |    12 |   12   |\n",
    "| 123     | 123  |   123 |  123   |\n",
    "| 1       | 1    |     1 |   1    |\n",
    "\n",
    ": Demonstration of pipe table syntax"
   ]
  },
  {
   "cell_type": "markdown",
   "id": "732675b3-5323-4c67-aefb-b19c45d4ccd2",
   "metadata": {},
   "source": [
    "`-` 사용예시2"
   ]
  },
  {
   "cell_type": "markdown",
   "id": "2aa9f6b2-426f-4b75-94ff-948de0c5eb7f",
   "metadata": {},
   "source": [
    "fruit| price\n",
    "-----|-----:\n",
    "apple|2.05\n",
    "pear|1.37\n",
    "orange|3.09"
   ]
  },
  {
   "cell_type": "markdown",
   "id": "7c344b11-f194-4a0e-89c4-ed8b1b0bbd06",
   "metadata": {},
   "source": [
    "`-` 사용예시3"
   ]
  },
  {
   "cell_type": "markdown",
   "id": "bfde4df2-5d22-41e8-ace2-696124359203",
   "metadata": {},
   "source": [
    "| fruit  | price  |\n",
    "|--------|--------|\n",
    "| apple  | 2.05   |\n",
    "| pear   | 1.37   |\n",
    "| orange | 3.09   |\n",
    "\n",
    ": Fruit prices {tbl-colwidths=\"[75,25]\"}"
   ]
  },
  {
   "cell_type": "markdown",
   "id": "4aba8c19-8d0e-402f-b008-0494d6275ddb",
   "metadata": {},
   "source": [
    "`-` 사용예시4"
   ]
  },
  {
   "cell_type": "markdown",
   "id": "8eb82558-8fd5-4520-9184-2230f4086370",
   "metadata": {},
   "source": [
    "::: {#tbl-panel layout-ncol=2}\n",
    "| Col1 | Col2 | Col3 |\n",
    "|------|------|------|\n",
    "| A    | B    | C    |\n",
    "| E    | F    | G    |\n",
    "| A    | G    | G    |\n",
    "\n",
    ": First Table {#tbl-first}\n",
    "\n",
    "| Col1 | Col2 | Col3 |\n",
    "|------|------|------|\n",
    "| A    | B    | C    |\n",
    "| E    | F    | G    |\n",
    "| A    | G    | G    |\n",
    "\n",
    ": Second Table {#tbl-second}\n",
    "\n",
    "Main Caption\n",
    ":::\n",
    "\n",
    "See @tbl-panel for details, especially @tbl-second."
   ]
  },
  {
   "cell_type": "markdown",
   "id": "0af0dbe0-3e0b-469c-9127-abf54fa80205",
   "metadata": {},
   "source": [
    "`-` 사용예시5"
   ]
  },
  {
   "cell_type": "markdown",
   "id": "c33ae800-d964-40d9-b7eb-167be4356546",
   "metadata": {},
   "source": [
    "+---------------+---------------+--------------------+\n",
    "| Fruit         | Price         | Advantages         |\n",
    "+===============+===============+====================+\n",
    "| Bananas       | $1.34         | - built-in wrapper |\n",
    "|               |               | - bright color     |\n",
    "+---------------+---------------+--------------------+\n",
    "| Oranges       | $2.10         | - cures scurvy     |\n",
    "|               |               | - tasty            |\n",
    "+---------------+---------------+--------------------+\n",
    "\n",
    ": Sample grid table."
   ]
  },
  {
   "cell_type": "markdown",
   "id": "ae35e1a6-b95c-4be8-ba2f-7651c37a4f6b",
   "metadata": {},
   "source": [
    "`-` 사용예시6"
   ]
  },
  {
   "cell_type": "code",
   "execution_count": 7,
   "id": "6cab84cd-8e21-42a9-8d22-c573d7ac2410",
   "metadata": {},
   "outputs": [
    {
     "data": {
      "text/html": [
       "<div>\n",
       "<style scoped>\n",
       "    .dataframe tbody tr th:only-of-type {\n",
       "        vertical-align: middle;\n",
       "    }\n",
       "\n",
       "    .dataframe tbody tr th {\n",
       "        vertical-align: top;\n",
       "    }\n",
       "\n",
       "    .dataframe thead th {\n",
       "        text-align: right;\n",
       "    }\n",
       "</style>\n",
       "<table border=\"1\" class=\"dataframe\">\n",
       "  <thead>\n",
       "    <tr style=\"text-align: right;\">\n",
       "      <th></th>\n",
       "      <th>A</th>\n",
       "      <th>B</th>\n",
       "      <th>C</th>\n",
       "    </tr>\n",
       "  </thead>\n",
       "  <tbody>\n",
       "    <tr>\n",
       "      <th>0</th>\n",
       "      <td>1</td>\n",
       "      <td>2</td>\n",
       "      <td>4</td>\n",
       "    </tr>\n",
       "    <tr>\n",
       "      <th>1</th>\n",
       "      <td>2</td>\n",
       "      <td>3</td>\n",
       "      <td>5</td>\n",
       "    </tr>\n",
       "    <tr>\n",
       "      <th>2</th>\n",
       "      <td>3</td>\n",
       "      <td>4</td>\n",
       "      <td>6</td>\n",
       "    </tr>\n",
       "  </tbody>\n",
       "</table>\n",
       "</div>"
      ],
      "text/plain": [
       "   A  B  C\n",
       "0  1  2  4\n",
       "1  2  3  5\n",
       "2  3  4  6"
      ]
     },
     "execution_count": 7,
     "metadata": {},
     "output_type": "execute_result"
    }
   ],
   "source": [
    "#| echo: false\n",
    "import pandas as pd\n",
    "pd.DataFrame({'A':[1,2,3],'B':[2,3,4],'C':[4,5,6]})"
   ]
  }
 ],
 "metadata": {
  "kernelspec": {
   "display_name": "Python 3 (ipykernel)",
   "language": "python",
   "name": "python3"
  },
  "language_info": {
   "codemirror_mode": {
    "name": "ipython",
    "version": 3
   },
   "file_extension": ".py",
   "mimetype": "text/x-python",
   "name": "python",
   "nbconvert_exporter": "python",
   "pygments_lexer": "ipython3",
   "version": "3.8.12"
  }
 },
 "nbformat": 4,
 "nbformat_minor": 5
}
